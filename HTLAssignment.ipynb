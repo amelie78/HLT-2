{
 "cells": [
  {
   "cell_type": "markdown",
   "id": "610b19ef",
   "metadata": {},
   "source": [
    "## Q 1.1: Language models"
   ]
  },
  {
   "cell_type": "code",
   "execution_count": 7,
   "id": "326bf6a2",
   "metadata": {},
   "outputs": [
    {
     "name": "stdout",
     "output_type": "stream",
     "text": [
      "The probability of occurrence of the word “European” following the word “the” in the Brown text is 0.0002286661616955596.\n",
      "The probability of occurrence of the word “European” following the word “the” in the Europarl text is 0.03723404255319149.\n",
      "The probability of occurrence of the word “you” following the word “ask” in the Brown text is 0.046875.\n",
      "The probability of occurrence of the word “you” following the word “ask” in the Europarl text is 0.5.\n"
     ]
    }
   ],
   "source": [
    "import nltk \n",
    "from nltk.probability import ConditionalFreqDist\n",
    "\n",
    "with open('europarl.fr-en.short.en.txt', 'r', encoding='utf-8') as f:\n",
    "    europarlText = f.read().lower().split()\n",
    "brownText = nltk.Text(word.lower() for word in nltk.corpus.brown.words())\n",
    "\n",
    "europarlBigrams = list(nltk.bigrams(europarlText))\n",
    "brownBigrams = list(nltk.bigrams(brownText))\n",
    "\n",
    "europarlCfd = ConditionalFreqDist(europarlBigrams)\n",
    "brownCfd = ConditionalFreqDist(brownBigrams)\n",
    "\n",
    "probEuroparlAskYou = europarlCfd['ask']['you'] / float(sum(europarlCfd['ask'].values()))\n",
    "probEuroparlTheEuropean =europarlCfd['the']['european'] / float(sum(europarlCfd['the'].values()))\n",
    "\n",
    "probBrownAskYou = brownCfd['ask']['you'] / float(sum(brownCfd['ask'].values()))\n",
    "probBrownTheEuropean = brownCfd['the']['european'] / float(sum(brownCfd['the'].values()))\n",
    "\n",
    "print(f'The probability of occurrence of the word “European” following the word “the” in the Brown text is {probBrownTheEuropean}.')\n",
    "print(f'The probability of occurrence of the word “European” following the word “the” in the Europarl text is {probEuroparlTheEuropean}.')\n",
    "\n",
    "print(f'The probability of occurrence of the word “you” following the word “ask” in the Brown text is {probBrownAskYou}.')\n",
    "print(f'The probability of occurrence of the word “you” following the word “ask” in the Europarl text is {probEuroparlAskYou}.')\n"
   ]
  },
  {
   "cell_type": "markdown",
   "id": "cbe50c36",
   "metadata": {},
   "source": [
    "## Q 1.3:  N-gram based MT evaluation"
   ]
  },
  {
   "cell_type": "code",
   "execution_count": null,
   "id": "3b342bbc",
   "metadata": {},
   "outputs": [
    {
     "name": "stdout",
     "output_type": "stream",
     "text": [
      "The overall BLEU Score is 0.9112231495571782\n",
      "The Verse 1 has 14 matches out of 14 bigrams resulting in a score of 1.0\n",
      "List of shared bigrams for Verse 1 [('thus', 'the'), ('the', 'heavens'), ('heavens', 'and'), ('and', 'the'), ('the', 'earth'), ('earth', 'were'), ('were', 'finished'), ('finished', ','), (',', 'and'), ('and', 'all'), ('all', 'the'), ('the', 'host'), ('host', 'of'), ('of', 'them')]\n",
      "The Verse 2 has 26 matches out of 28 bigrams resulting in a score of 0.9285714285714286\n",
      "List of shared bigrams for Verse 2 [('and', 'on'), ('on', 'the'), ('the', 'seventh'), ('seventh', 'day'), ('day', 'god'), ('god', 'finished'), ('his', 'work'), ('work', 'which'), ('which', 'he'), ('he', 'had'), ('had', 'made'), (',', 'and'), ('and', 'he'), ('he', 'rested'), ('rested', 'on'), ('on', 'the'), ('the', 'seventh'), ('seventh', 'day'), ('day', 'from'), ('from', 'all'), ('all', 'his'), ('his', 'work'), ('work', 'which'), ('which', 'he'), ('he', 'had'), ('had', 'made')]\n",
      "The Verse 3 has 22 matches out of 27 bigrams resulting in a score of 0.8148148148148148\n",
      "List of shared bigrams for Verse 3 [('blessed', 'the'), ('the', 'seventh'), ('seventh', 'day'), ('day', ','), (',', 'and'), ('and', 'sanctified'), ('sanctified', 'it'), ('it', ':'), (':', 'because'), ('because', 'that'), ('that', 'in'), ('in', 'it'), ('it', 'he'), ('he', 'had'), ('had', 'rested'), ('rested', 'from'), ('from', 'all'), ('all', 'his'), ('his', 'work'), ('work', 'which'), ('which', 'god'), ('god', 'created')]\n"
     ]
    }
   ],
   "source": [
    "from collections import Counter\n",
    "import string\n",
    "from nltk.util import ngrams\n",
    "from nltk.tokenize import word_tokenize\n",
    "\n",
    "translation =['Thus the heavens and the earth were finished, and all the host of them',\n",
    "              'And on the seventh day God finished his work which he had made, and he rested on the seventh day from all his work which he had made',\n",
    "              'And he blessed the seventh day, and sanctified it: because that in it he had rested from all his work which God created to make.']\n",
    "\n",
    "refHolyBible=['Thus the heavens and the earth were finished, and all the host of them.'\n",
    ",'And on the seventh day God ended his work which he had made; and he rested on the seventh day from all his work which he had made.'\n",
    ",'And God blessed the seventh day, and sanctified it: because that in it he had rested from all his work which God created and made.']\n",
    "\n",
    "refOremusBible=['Thus the heavens and the earth were finished, and all their multitude.',\n",
    "      'And on the seventh day God finished the work that he had done, and he rested on the seventh day from all the work that he had done.',\n",
    "      'So God blessed the seventh day and hallowed it, because on it God rested from all the work that he had done in creation.']\n",
    "\n",
    "def getBigrams(sentence):\n",
    "    tokens = word_tokenize(sentence.lower())\n",
    "    return list(ngrams(tokens,2))\n",
    "\n",
    "def bleuLike(translation,ref1,ref2):\n",
    "    transAllBigrams =[]\n",
    "    matchesPerSentence=[]\n",
    "    scorePerSentence=[]\n",
    "    for i in range(len(translation)):    \n",
    "        transBigrams=getBigrams(translation[i])\n",
    "        transAllBigrams.append(transBigrams)\n",
    "        refBigrams = set(getBigrams(ref1[i])) | set(getBigrams(ref2[i]))\n",
    "        sharedBigrams= [bigram for bigram in transBigrams if bigram in refBigrams]\n",
    "        matchesPerSentence.append(sharedBigrams)\n",
    "        if len(transBigrams) > 0:\n",
    "            scorePerSentence.append([len(sharedBigrams) / len(transBigrams),len(sharedBigrams),len(transBigrams)])\n",
    "        else:\n",
    "            scorePerSentence.append(0)\n",
    "    return scorePerSentence, matchesPerSentence, transAllBigrams\n",
    "\n",
    "def generateLatexTable(bigrams,matches,title):\n",
    "    latex_table = f\"\\\\begin{{table}}[ht]\\n\\\\centering\\n\\\\begin{{tabular}}{{|c|c|}}\\n\\\\hline\\nBigramm & Match (Yes/No) \\\\\\\\ \\\\hline\\n\"\n",
    "    for bigram in bigrams:\n",
    "        if bigram in matches:\n",
    "            latex_table += f\"{bigram} & yes \\\\\\\\ \\\\hline\\n\"\n",
    "        else:\n",
    "            latex_table += f\"{bigram} & no \\\\\\\\ \\\\hline\\n\"\n",
    "    \n",
    "    latex_table += f\"\\\\end{{tabular}}\\n\\\\caption{{{title}}}\\n\\\\end{{table}}\"\n",
    "    return latex_table\n",
    "\n",
    "def bleuScore(values):\n",
    "    product =1\n",
    "    for value in values:\n",
    "        product*=value[0]\n",
    "    i=len(values)\n",
    "    return product**(1/i)\n",
    "\n",
    "scores,bigramMatches,transBigrams=bleuLike(translation,refHolyBible,refOremusBible)\n",
    "# print(generateLatexTable(transBigrams[2],bigramMatches[2],'Verse 3'))\n",
    "print(f'The overall BLEU Score is {bleuScore(scores)}')\n",
    "print(f'The Verse 1 has {scores[0][1]} matches out of {scores[0][2]} bigrams resulting in a score of {scores[0][0]}')\n",
    "print('List of shared bigrams for Verse 1',bigramMatches[0])\n",
    "print(f'The Verse 2 has {scores[1][1]} matches out of {scores[1][2]} bigrams resulting in a score of {scores[1][0]}')\n",
    "print('List of shared bigrams for Verse 2',bigramMatches[1])\n",
    "print(f'The Verse 3 has {scores[2][1]} matches out of {scores[2][2]} bigrams resulting in a score of {scores[2][0]}')\n",
    "print('List of shared bigrams for Verse 3',bigramMatches[2])\n"
   ]
  }
 ],
 "metadata": {
  "kernelspec": {
   "display_name": "Python 3",
   "language": "python",
   "name": "python3"
  },
  "language_info": {
   "codemirror_mode": {
    "name": "ipython",
    "version": 3
   },
   "file_extension": ".py",
   "mimetype": "text/x-python",
   "name": "python",
   "nbconvert_exporter": "python",
   "pygments_lexer": "ipython3",
   "version": "3.12.4"
  }
 },
 "nbformat": 4,
 "nbformat_minor": 5
}
